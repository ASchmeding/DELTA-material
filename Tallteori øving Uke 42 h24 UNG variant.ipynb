{
 "cells": [
  {
   "cell_type": "markdown",
   "id": "f0257953",
   "metadata": {},
   "source": [
    "# Tallteori Øving Uke 42 - UNG variant\n",
    "\n",
    "Velkommen til tallteori øvingen i uke 42. I dette notatet skal dere utforske tallteori ved hjelp av programmering. I tallteoriemnet utvikler vi kunnskap om heltall. Datamaskiner utfører slike beregninger uten at vi skjønner hvor mye teori som trengs for å utføre disse beregningene. Det finnes flere måter å beregne noe på og noen av dem er mer effektive og raskere enn andre. \n",
    "\n",
    "Ideen med dette notatet er at dere legger ved forklaringer i tekstfeltene under og programmerer i programmeringsfeltene. Utfylt notatbok leveres for vurdering i etterkant. Vi forventer at dere er kjent med grunnleggende programmering i Python programmeringsspråk.\n",
    "\n",
    "Bruk feltet under for å skrive inn navnene deres (OBS: det er helt i orden å jobbe sammen)."
   ]
  },
  {
   "cell_type": "code",
   "execution_count": null,
   "id": "6d2b9ae1",
   "metadata": {},
   "outputs": [],
   "source": [
    "#Skriv inn navnene deres i print\n",
    "print(\" MYNAME1 \", \"MyNAME 2\")"
   ]
  },
  {
   "cell_type": "markdown",
   "id": "70dca379",
   "metadata": {},
   "source": [
    "## Binomialkoeffisienter\n",
    "\n",
    "I denne øving skal vi se på forskjellige måter å beregne binomialkoeffisienter. Husk at en binomialkoeffisient er definert som \n",
    "\n",
    "$$\\binom{n}{k} = \\frac{n!}{(n-k)!k!} = \\frac{n(n-1)(n-2)\\cdots (n-k+1)}{k!} \\qquad \\qquad\\qquad (\\star)$$\n",
    "\n",
    "hvor $n,k$ er naturlige tall med $k \\leq n$ (formellt sett kan vi også definere binomialkoeffisienten for $k>n$ som $0$).\n",
    "Binomialkoeffisienten beskriver, blant annet, antall av måter å trekke $k$ elementer fra en mengde av $n$ elementer. Den brukes i mange kombinatoriske problemer, sjekk for eksempel [Wikipedia side om binomialkoeffisienter](https://no.wikipedia.org/wiki/Binomialkoeffisient).\n",
    "\n",
    "\n",
    "### Litt programmering\n",
    "\n",
    "Vi skal nå bruke programmering for å beregne binomialkoeffisienter. Programmering her håper vi ikke byr på problemer for dere og vi tar det som oppvarming.\n",
    "\n",
    "Først introduserer vi en funksjon som implementerer fakultet:"
   ]
  },
  {
   "cell_type": "code",
   "execution_count": null,
   "id": "32235942",
   "metadata": {},
   "outputs": [],
   "source": [
    "def myfaculty(n) :\n",
    "    #Funksjonen myfaculty beregner fakultet til et heltall\n",
    "    # Input: heltall n\n",
    "    # Output: n!\n",
    "    if n>0: \n",
    "        return n*myfaculty(n-1)\n",
    "    else:\n",
    "        return 1"
   ]
  },
  {
   "cell_type": "code",
   "execution_count": null,
   "id": "f035d1ff",
   "metadata": {},
   "outputs": [],
   "source": [
    "#Testfelt for funksjonen myfaculty\n",
    "print(\"6!=\",myfaculty(3))\n",
    "print(\"35!=\",myfaculty(35))"
   ]
  },
  {
   "cell_type": "markdown",
   "id": "218b3c35",
   "metadata": {},
   "source": [
    "### Oppgave 1 (a)\n",
    "\n",
    "Beskriv i tekstfelt under hvordan funksjonen myfaculty er lagd og hvorfor den beregner fakultetet."
   ]
  },
  {
   "cell_type": "markdown",
   "id": "eab7f8f9",
   "metadata": {},
   "source": [
    "**Plass for dine notater** Dobbeltklikk for å begynne å skrive noe inn i feltet."
   ]
  },
  {
   "cell_type": "markdown",
   "id": "d33e1a79",
   "metadata": {},
   "source": [
    "### Oppgave 1 (b)\n",
    "\n",
    "Lag nå en funksjon i programmeringsfeltet under som beregner binomialkoeffisienten. Dere kan bruke for eksempel funksjonen myfaculty for å beregne fakultetet. Dere finner allerede grunnleggende oppbygging av Python funksjonen i feltet under her. Deretter kjører dere testfeltet under:"
   ]
  },
  {
   "cell_type": "code",
   "execution_count": null,
   "id": "7117aa87",
   "metadata": {},
   "outputs": [],
   "source": [
    "def mybinomial (n,k):\n",
    "    #Gi har en kort oversikt hva funksjonen gjør og hvilke variabler den tar imot\n",
    "    # Plass for din kode"
   ]
  },
  {
   "cell_type": "code",
   "execution_count": null,
   "id": "953c4f55",
   "metadata": {},
   "outputs": [],
   "source": [
    "# Testfelt for mybinomial, ikke endre noe her men kjør det for å sjekke dine beregninger\n",
    "import scipy.special\n",
    "\n",
    "for n in range (1,40):\n",
    "    for k in range(0,n):\n",
    "        if mybinomial(n,k) != scipy.special.comb(n,k,exact=True):\n",
    "            print(\"Binomialkoeffisienten for\", n,k, \" er feil\")\n",
    "print(\"Test avsluttet, hvis ingen feilmelding vises er beregninger ok\")"
   ]
  },
  {
   "cell_type": "markdown",
   "id": "07a41e6c",
   "metadata": {},
   "source": [
    "## Problemer knyttet til beregninger av binomialkoeffisienten\n",
    "\n",
    "I praksis møter vi problemer i beregninger som involverer binomialkoeffisienter siden fakultetet $n!$ vokser veldig fort. Dette er problemer som\n",
    "\n",
    " 1. Datamaskiner kan ikke håndtere tallene som ett vanlig tall i minne. Siden datamaskiner har begrenset minne for store tall må de bruke mer minneplass. \n",
    " 2. Beregninger kan derfor være langsomme og minne intensiv.\n",
    " 3. Divisjon er vanskelig for datamaskiner (se [Wikipedia om divisjonsalgoritmer](https://en.wikipedia.org/wiki/Division_algorithm) for mer informasjon). \n",
    " \n",
    "For eksempel hvis vi ønsker å beregne binomialkoeffisienter som $$\\binom{400}{k}$$ møter vi problemer siden beregninger krever tall større enn tall med 64 bit (det er tallene Python bruker vanligvis, i programmet dere har laget vises problemet seg antageligvis mye tidligere, prøv å sammenligne deres resultat for $n=100, k=50$ med de beregninger scipy.special.comb(100,50,exact=True) leverer). \n",
    "Moderne datamaskiner har vanligvis nok minne slik at for store tall ikke produserer en \"memory overflow\" feil. Uansett er disse beregninger trege og unøyaktig på grunn av problemene 1-3. vi diskuterte oppover.\n",
    "I anvendelser unngår man problemet ofte siden: \n",
    "\n",
    " - Man er often ikke interessert i verdien til $\\binom{n}{k}$ men i stedet i $\\binom{n}{k} \\text{mod} r$ hvor $r$ er ett annet heltall.\n",
    " \n",
    "Siden vi regner modular kan vi unngå for store tall som resultat. \n",
    "\n",
    "### Oppgave 1 (c)\n",
    "\n",
    "Forklar problemet med binomialkoeffisienten og hvorfor vi trenger en bedre måte å beregne $\\binom{n}{k}$ selv om vi er bare interessert i $\\binom{n}{k} \\mod r$. Hva er antageligvis problemet med din funksjon mybinomial i disse beregninger?"
   ]
  },
  {
   "cell_type": "markdown",
   "id": "a4e56690",
   "metadata": {},
   "source": [
    "**Plass for dine svar** Dobbeltklikk for å legge inn tekst her."
   ]
  },
  {
   "cell_type": "markdown",
   "id": "c0ae2e9a",
   "metadata": {},
   "source": [
    "## Oppgave 2: Litt mer systematisk programmering\n",
    "\n",
    "I testfeltet har vi brukt scipy programmpakke og selvfølgelig er alle programmeringsutfordringer dere møter i disse notatene allerede løst. Formålet med øvingen er at vi lærer om problemer og utfordringer selv enkle programmeringsoppgaver i tallteoretisk kontekst medfører. I denne oppgaven skal vi repetere igjen hvordan man kan hente inn funksjoner dersom man trenger dem. Vanligvis bryr vi oss ikke om å lage funksjoner selv dersom noen har lagd dem allerede (profesjonelle programmerere kan det vanligvis mye bedre enn oss).\n",
    "\n",
    "Husk at vi kan bruke nøkkelord <code>import</code> for å hente inn programmpakker vi trenger.\n",
    "\n",
    "### Oppgave 2 (a) \n",
    "\n",
    "Bruk kodefelt under for å importere programmbibliotek <code>math</code> deretter finn dokumentasjonen til Python math bibliotek på nett (Google er din venn her!) og finn funksjonene som beregner faktorial og binomialkoeffisienter i pakken. Eksperimenter med dem og sammenligner med funksjoner vi har laget. "
   ]
  },
  {
   "cell_type": "code",
   "execution_count": null,
   "id": "ce49011d",
   "metadata": {},
   "outputs": [],
   "source": [
    "# Plass for din kode"
   ]
  },
  {
   "cell_type": "markdown",
   "id": "6b84c7f9",
   "metadata": {},
   "source": [
    "## Binomialkoeffisienter via Pascal´s trekant\n",
    "\n",
    "For å unngå divisjonen i beregning av binomialkoeffisienter vi må unngå formelen $(\\star)$(se lengre opp på siden). En ide kunne være å fremstille binomialkoeffisienter ved hjelp av Pascals Trekant:\n",
    "![Pascals trekant](https://upload.wikimedia.org/wikipedia/commons/0/0d/PascalTriangleAnimated2.gif)\n",
    "\n",
    "Tallene i trekanten er kjent å være binomialkoeffisienter. Dermed har vi en formel \n",
    "$$\\binom{n}{k} = \\binom{n-1}{k-1}+\\binom{n-1}{k+1}, \\qquad \\binom{n}{0}=1=\\binom{n}{n},\\ k\\leq n \\qquad \\qquad (\\star \\star)$$\n",
    "for binomialkoeffisientene som kan beregnes rekursiv og uten divisjon.\n",
    "\n",
    "### Oppgave 2 (b)\n",
    "\n",
    "Lag et Python program som beregner binomialkoeffisienter for $n,k$ naturlige tall med $k \\leq n$ ved hjelp av rekursjon og $(\\star \\star)$."
   ]
  },
  {
   "cell_type": "code",
   "execution_count": null,
   "id": "15df8cee",
   "metadata": {},
   "outputs": [],
   "source": [
    "def binomialkoeffisient_via_Pascal (n,k):\n",
    "    # Plass for din kode"
   ]
  },
  {
   "cell_type": "markdown",
   "id": "8a51fded",
   "metadata": {},
   "source": [
    "### Oppgave 2 (c) \n",
    "Lag et  testområdet som tester ditt binomialkoeffisientprogram fra 2 (b) mot binomialkoeffisientkommandoen  fra <code>math</code> vi har lastet inn i 2 (a). Testområdet skal være liknende som det vi har gjort i test i Oppgave 1 (b). "
   ]
  },
  {
   "cell_type": "code",
   "execution_count": null,
   "id": "a7273e02",
   "metadata": {},
   "outputs": [],
   "source": [
    "# Plass for ditt testområdet"
   ]
  },
  {
   "cell_type": "markdown",
   "id": "9834af0a",
   "metadata": {},
   "source": [
    "## Fermat´s lille teorem\n",
    "\n",
    "Husk fra forelesning \n",
    "\n",
    "\n",
    ">### **Fermat´s lille teorem**\n",
    ">\n",
    ">Hvis $p$ er et primtall så er for hver heltall $a$ tallet \n",
    ">$$a^p  = a \\mod p $$\n",
    ">Med andre ord, tallet $a^p-a$ er delelig med $p$.\n",
    "\n",
    "\n",
    "I tillegg, hvis $a$ er ikke delelig med $p$, så er Fermat´s lille teorem ekvivalent til \n",
    "$$a^{p-1} = 1 \\mod p$$\n",
    "Ved å multiplisere begge sider med $a^{-1}$ vi finner at \n",
    "$$a^{p-2} = a^{-1} \\mod p$$\n",
    "Tallet $a^{p-1}$ er dermed *modular invers til* $a$. (Betydning av modular invers er at tallet, hvis vi multipliserer med modular invers blir lik $1$ modulo $p$).\n",
    "\n",
    "## Oppgave 3: Binomialkoeffisienter via Fermat´s lille teorem\n",
    "\n",
    "### Oppgave 3 (a)\n",
    "\n",
    "Forklar hvordan vi kan bruke modular invers til ett tall for å beregne $\\binom{n}{k} \\mod p$. Skriv svar inn i teksfeltet nede.\n",
    "\n",
    "**Hint:** Bruk modular aritmetikk og husk at $\\frac{m}{\\ell} \\mod p = m \\cdot \\ell^{-1} \\mod p$."
   ]
  },
  {
   "cell_type": "markdown",
   "id": "3d67e43d",
   "metadata": {},
   "source": [
    "**Plass for dine svar** Dobbeltklikk for å legge inn tekst her."
   ]
  },
  {
   "cell_type": "markdown",
   "id": "d7cabaaf",
   "metadata": {},
   "source": [
    "### Oppgave 3 (b)\n",
    "\n",
    "Lag et program som beregner $\\binom{n}{k} \\mod p$ for $n,m$ heltall of $p$ primtall ved hjelp av modular invers.\n",
    "\n",
    "**Hint:** I Python brukes <code>%</code> for å uttrykke modularregning. Dvs. $100 \\mod p$ skrives i Python som \n",
    "<code> 100 % p</code>"
   ]
  },
  {
   "cell_type": "code",
   "execution_count": null,
   "id": "2e860aef",
   "metadata": {},
   "outputs": [],
   "source": [
    "# Plass for din kode"
   ]
  },
  {
   "cell_type": "markdown",
   "id": "e9560c62",
   "metadata": {},
   "source": [
    "### Oppgave 4: Primtallstest ved hjelp av Fermat´s lille teorem\n",
    "\n",
    "Denne siste oppgaven i denne øving er litt vanskeligere siden dere må hente inn mer kunnskap om programmering som vi skal ikke gå gjennom steg for steg. Så ikke stress dersom dere ikke klarer det (øvinger er ikke bare godkjent dersom alt er løst eller riktig). Som sett før viser Fermat´s lille teorem at \n",
    "$$a^p = 1 \\mod p \\quad \\text{ for envher } a \\text{ hvis } p \\text{ er ett primtall.}$$\n",
    "Dette viser en vei for en (relativ) fort probabilistisk primtallstest (se også [Wikipedia](https://en.wikipedia.org/wiki/Fermat_primality_test) for mer informasjon):\n",
    "\n",
    "> **Probabilistisk primtallstest via lille Fermat** \n",
    "> Input: Et tall $n>3$ som skal testes, tall $k$ som bestemmer hvor ofte vi skal teste\n",
    "> Output: på skjerm: \"sammensatt tall\" aller \"kanskje ett primtall\"\n",
    "> Gjør $k$ ganger:\n",
    ">      Velg et tilfeldig tall mellom $[2,n-2]$\n",
    ">      Hvis $a^{p-1} \\not= 1 \\mod n$ skriv \"sammensatt tall\" på skjerm og avslutt program\n",
    "> Hvis programmet er ikke avsluttet etter $k$ test skriv \"kanskje ett primtall\" på skjermen\n",
    "\n",
    "### Oppgave 4 (a) \n",
    "Lag Fermat´s primtallstest som Python program i cellen nede. \n",
    "\n",
    "**Hint:** Sjekk <code>randint</code> funksjonen fra <code> math</code> biblioteket."
   ]
  },
  {
   "cell_type": "code",
   "execution_count": null,
   "id": "74e9051b",
   "metadata": {},
   "outputs": [],
   "source": [
    "#Plass for din kode"
   ]
  },
  {
   "cell_type": "markdown",
   "id": "030e4b51",
   "metadata": {},
   "source": [
    "### Oppgave 4 (b)\n",
    "\n",
    "Lag et testområdet hvor du tester primtallstest fra 4 (a) (tallene som testes velges selv)"
   ]
  },
  {
   "cell_type": "code",
   "execution_count": null,
   "id": "fe6ed771",
   "metadata": {},
   "outputs": [],
   "source": [
    "#Plass for din kode"
   ]
  }
 ],
 "metadata": {
  "kernelspec": {
   "display_name": "Python 3 (ipykernel)",
   "language": "python",
   "name": "python3"
  },
  "language_info": {
   "codemirror_mode": {
    "name": "ipython",
    "version": 3
   },
   "file_extension": ".py",
   "mimetype": "text/x-python",
   "name": "python",
   "nbconvert_exporter": "python",
   "pygments_lexer": "ipython3",
   "version": "3.11.6"
  }
 },
 "nbformat": 4,
 "nbformat_minor": 5
}
